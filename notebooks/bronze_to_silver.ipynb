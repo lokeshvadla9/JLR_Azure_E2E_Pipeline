{
 "cells": [
  {
   "cell_type": "code",
   "execution_count": 0,
   "metadata": {
    "application/vnd.databricks.v1+cell": {
     "cellMetadata": {
      "byteLimit": 2048000,
      "rowLimit": 10000
     },
     "inputWidgets": {},
     "nuid": "d33cf357-5322-4933-b678-4e8fa84977a0",
     "showTitle": false,
     "title": ""
    }
   },
   "outputs": [],
   "source": [
    "#Collecting table names and table directories\n",
    "table_dirs=[i.name.split('/')[0] for i in dbutils.fs.ls('/mnt/bronze/public')]\n",
    "tables=[table_dir.replace('tbl','') for table_dir in table_dirs]"
   ]
  },
  {
   "cell_type": "code",
   "execution_count": 0,
   "metadata": {
    "application/vnd.databricks.v1+cell": {
     "cellMetadata": {
      "byteLimit": 2048000,
      "rowLimit": 10000
     },
     "inputWidgets": {},
     "nuid": "bb670685-a75c-4f17-a052-4bcf2ccb3310",
     "showTitle": false,
     "title": ""
    }
   },
   "outputs": [],
   "source": [
    "#formatting date columns\n",
    "from pyspark.sql.functions import date_format,col,to_timestamp\n",
    "for table,table_dir in zip(tables,table_dirs):\n",
    "    path='/mnt/bronze/public/'+table_dir+'/'+table+'.parquet'\n",
    "    df=spark.read.parquet(path)\n",
    "    for column in df.columns:\n",
    "        if 'date' in column or 'Date' in column:\n",
    "            df = df.withColumn(column, date_format(to_timestamp(col(column), \"yyyy-MM-dd HH:mm:ss.SSS\"), \"MM/dd/yyyy\"))\n",
    "    \n",
    "    output_path='/mnt/silver/public/'+table+'/'\n",
    "    df.write.format('delta').mode('overwrite').save(output_path)\n"
   ]
  },
  {
   "cell_type": "code",
   "execution_count": 0,
   "metadata": {
    "application/vnd.databricks.v1+cell": {
     "cellMetadata": {
      "byteLimit": 2048000,
      "rowLimit": 10000
     },
     "inputWidgets": {},
     "nuid": "78bc1084-e59e-42fb-b260-d33c4cbbc36d",
     "showTitle": false,
     "title": ""
    }
   },
   "outputs": [
    {
     "output_type": "stream",
     "name": "stdout",
     "output_type": "stream",
     "text": [
      "+------+----------+\n|userid| logindate|\n+------+----------+\n|     1|08/01/2024|\n|     1|08/02/2024|\n|     1|08/03/2024|\n|     1|08/05/2024|\n|     2|08/01/2024|\n|     2|08/02/2024|\n|     2|08/03/2024|\n|     2|08/04/2024|\n|     3|08/01/2024|\n|     3|08/03/2024|\n|     3|08/04/2024|\n|     4|08/01/2024|\n|     4|08/02/2024|\n|     4|08/04/2024|\n|     5|08/01/2024|\n|     5|08/02/2024|\n+------+----------+\n\n"
     ]
    }
   ],
   "source": [
    "#checking date format in last dataframe\n",
    "df.show()"
   ]
  },
  {
   "cell_type": "code",
   "execution_count": 0,
   "metadata": {
    "application/vnd.databricks.v1+cell": {
     "cellMetadata": {},
     "inputWidgets": {},
     "nuid": "49361368-5b23-4ae2-8ad9-796463430b13",
     "showTitle": false,
     "title": ""
    }
   },
   "outputs": [],
   "source": []
  }
 ],
 "metadata": {
  "application/vnd.databricks.v1+notebook": {
   "dashboards": [],
   "environmentMetadata": null,
   "language": "python",
   "notebookMetadata": {
    "pythonIndentUnit": 4
   },
   "notebookName": "bronze_to_silver",
   "widgets": {}
  }
 },
 "nbformat": 4,
 "nbformat_minor": 0
}
