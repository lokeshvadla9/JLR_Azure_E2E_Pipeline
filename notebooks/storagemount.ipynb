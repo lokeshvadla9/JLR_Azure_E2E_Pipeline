{
 "cells": [
  {
   "cell_type": "code",
   "execution_count": 0,
   "metadata": {
    "application/vnd.databricks.v1+cell": {
     "cellMetadata": {
      "byteLimit": 2048000,
      "rowLimit": 10000
     },
     "inputWidgets": {},
     "nuid": "9d54dd1b-a277-49d4-b6ac-489788106ab3",
     "showTitle": false,
     "title": ""
    }
   },
   "outputs": [
    {
     "output_type": "execute_result",
     "data": {
      "text/plain": [
       "True"
      ]
     },
     "execution_count": 3,
     "metadata": {},
     "output_type": "execute_result"
    }
   ],
   "source": [
    "configs = {\n",
    "    \"fs.azure.account.auth.type\": \"CustomAccessToken\",\n",
    "    \"fs.azure.account.custom.token.provider.class\": spark.conf.get(\"spark.databricks.passthrough.adls.gen2.tokenProviderClassName\")\n",
    "}\n",
    "\n",
    "\n",
    "if any(mount.mountPoint == '/mnt/bronze' for mount in dbutils.fs.mounts()):\n",
    "    dbutils.fs.unmount('/mnt/bronze')\n",
    "\n",
    "dbutils.fs.mount(\n",
    "source = \"abfss://bronze@datalakejlr.dfs.core.windows.net/\",\n",
    "mount_point = \"/mnt/bronze\",\n",
    "extra_configs = configs)"
   ]
  },
  {
   "cell_type": "code",
   "execution_count": 0,
   "metadata": {
    "application/vnd.databricks.v1+cell": {
     "cellMetadata": {
      "byteLimit": 2048000,
      "rowLimit": 10000
     },
     "inputWidgets": {},
     "nuid": "27247536-e697-4b86-9ee4-49e236a11a60",
     "showTitle": false,
     "title": ""
    }
   },
   "outputs": [
    {
     "output_type": "execute_result",
     "data": {
      "text/plain": [
       "[FileInfo(path='dbfs:/mnt/bronze/public/tblCar/', name='tblCar/', size=0, modificationTime=1724710568000),\n",
       " FileInfo(path='dbfs:/mnt/bronze/public/tblCustomer/', name='tblCustomer/', size=0, modificationTime=1724710568000),\n",
       " FileInfo(path='dbfs:/mnt/bronze/public/tblEmployee/', name='tblEmployee/', size=0, modificationTime=1724710570000),\n",
       " FileInfo(path='dbfs:/mnt/bronze/public/tblInventory/', name='tblInventory/', size=0, modificationTime=1724710569000),\n",
       " FileInfo(path='dbfs:/mnt/bronze/public/tblMaintenanceRecord/', name='tblMaintenanceRecord/', size=0, modificationTime=1724710572000),\n",
       " FileInfo(path='dbfs:/mnt/bronze/public/tblOrder/', name='tblOrder/', size=0, modificationTime=1724710570000),\n",
       " FileInfo(path='dbfs:/mnt/bronze/public/tblPart/', name='tblPart/', size=0, modificationTime=1724710569000),\n",
       " FileInfo(path='dbfs:/mnt/bronze/public/tblSalesTransaction/', name='tblSalesTransaction/', size=0, modificationTime=1724710576000),\n",
       " FileInfo(path='dbfs:/mnt/bronze/public/tblServiceRecord/', name='tblServiceRecord/', size=0, modificationTime=1724710571000),\n",
       " FileInfo(path='dbfs:/mnt/bronze/public/tblSupplier/', name='tblSupplier/', size=0, modificationTime=1724710569000),\n",
       " FileInfo(path='dbfs:/mnt/bronze/public/tblWarranty/', name='tblWarranty/', size=0, modificationTime=1724710572000),\n",
       " FileInfo(path='dbfs:/mnt/bronze/public/tblemployeelogins/', name='tblemployeelogins/', size=0, modificationTime=1724710569000)]"
      ]
     },
     "execution_count": 1,
     "metadata": {},
     "output_type": "execute_result"
    }
   ],
   "source": [
    "dbutils.fs.ls(\"/mnt/bronze/public\")"
   ]
  },
  {
   "cell_type": "code",
   "execution_count": 0,
   "metadata": {
    "application/vnd.databricks.v1+cell": {
     "cellMetadata": {
      "byteLimit": 2048000,
      "rowLimit": 10000
     },
     "inputWidgets": {},
     "nuid": "e981ea99-778c-45c2-a043-d73b80754e71",
     "showTitle": false,
     "title": ""
    }
   },
   "outputs": [
    {
     "output_type": "execute_result",
     "data": {
      "text/plain": [
       "True"
      ]
     },
     "execution_count": 3,
     "metadata": {},
     "output_type": "execute_result"
    }
   ],
   "source": [
    "configs = {\n",
    "    \"fs.azure.account.auth.type\": \"CustomAccessToken\",\n",
    "    \"fs.azure.account.custom.token.provider.class\": spark.conf.get(\"spark.databricks.passthrough.adls.gen2.tokenProviderClassName\")\n",
    "}\n",
    "\n",
    "\n",
    "if any(mount.mountPoint == '/mnt/silver' for mount in dbutils.fs.mounts()):\n",
    "    dbutils.fs.unmount('/mnt/silver')\n",
    "\n",
    "dbutils.fs.mount(\n",
    "source = \"abfss://silver@datalakejlr.dfs.core.windows.net/\",\n",
    "mount_point = \"/mnt/silver\",\n",
    "extra_configs = configs)"
   ]
  },
  {
   "cell_type": "code",
   "execution_count": 0,
   "metadata": {
    "application/vnd.databricks.v1+cell": {
     "cellMetadata": {
      "byteLimit": 2048000,
      "rowLimit": 10000
     },
     "inputWidgets": {},
     "nuid": "f004bd83-6059-4ed6-8712-fb4062bdb275",
     "showTitle": false,
     "title": ""
    }
   },
   "outputs": [
    {
     "output_type": "execute_result",
     "data": {
      "text/plain": [
       "True"
      ]
     },
     "execution_count": 4,
     "metadata": {},
     "output_type": "execute_result"
    }
   ],
   "source": [
    "configs = {\n",
    "    \"fs.azure.account.auth.type\": \"CustomAccessToken\",\n",
    "    \"fs.azure.account.custom.token.provider.class\": spark.conf.get(\"spark.databricks.passthrough.adls.gen2.tokenProviderClassName\")\n",
    "}\n",
    "\n",
    "\n",
    "if any(mount.mountPoint == '/mnt/gold' for mount in dbutils.fs.mounts()):\n",
    "    dbutils.fs.unmount('/mnt/gold')\n",
    "\n",
    "dbutils.fs.mount(\n",
    "source = \"abfss://gold@datalakejlr.dfs.core.windows.net/\",\n",
    "mount_point = \"/mnt/gold\",\n",
    "extra_configs = configs)"
   ]
  }
 ],
 "metadata": {
  "application/vnd.databricks.v1+notebook": {
   "dashboards": [],
   "environmentMetadata": null,
   "language": "python",
   "notebookMetadata": {
    "pythonIndentUnit": 4
   },
   "notebookName": "storagemount",
   "widgets": {}
  }
 },
 "nbformat": 4,
 "nbformat_minor": 0
}
