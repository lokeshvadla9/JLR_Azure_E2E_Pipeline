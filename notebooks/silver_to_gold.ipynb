{
 "cells": [
  {
   "cell_type": "code",
   "execution_count": 0,
   "metadata": {
    "application/vnd.databricks.v1+cell": {
     "cellMetadata": {
      "byteLimit": 2048000,
      "rowLimit": 10000
     },
     "inputWidgets": {},
     "nuid": "f1e13327-a3c8-4671-8ed3-9a0efcdb2abc",
     "showTitle": false,
     "title": ""
    }
   },
   "outputs": [],
   "source": [
    "table_dict={i.name.replace('/',''):i.path for i in dbutils.fs.ls('/mnt/silver/public')}\n",
    "gold_writes={}"
   ]
  },
  {
   "cell_type": "code",
   "execution_count": 0,
   "metadata": {
    "application/vnd.databricks.v1+cell": {
     "cellMetadata": {
      "byteLimit": 2048000,
      "rowLimit": 10000
     },
     "inputWidgets": {},
     "nuid": "a935239c-3cd8-4f15-9024-2a0b17edcd6c",
     "showTitle": false,
     "title": ""
    }
   },
   "outputs": [],
   "source": [
    "dataframes={}\n",
    "for name,path in table_dict.items():\n",
    "    dataframes[name]=spark.read.format('delta').load(path)"
   ]
  },
  {
   "cell_type": "code",
   "execution_count": 0,
   "metadata": {
    "application/vnd.databricks.v1+cell": {
     "cellMetadata": {
      "byteLimit": 2048000,
      "rowLimit": 10000
     },
     "inputWidgets": {},
     "nuid": "087acd0c-5bd8-4e4a-9558-c26887ec41f7",
     "showTitle": false,
     "title": ""
    }
   },
   "outputs": [
    {
     "output_type": "stream",
     "name": "stdout",
     "output_type": "stream",
     "text": [
      "+----+-----+-----------+\n|year|month|total_sales|\n+----+-----+-----------+\n|2024|    7|50506040.83|\n|2023|    9|48806898.85|\n|2023|    8|38314491.17|\n|2024|    3|51626344.90|\n|2024|    5|51442699.17|\n|2024|    2|48084953.53|\n|2023|   11|50059485.56|\n|2024|    1|49856095.00|\n|2023|   10|50880037.02|\n|2024|    6|50920734.01|\n|2023|   12|49979364.12|\n|2024|    4|49267669.47|\n|2024|    8|10533589.54|\n+----+-----+-----------+\n\n"
     ]
    }
   ],
   "source": [
    "#Total Sales by Year and Month\n",
    "from pyspark.sql.functions import month, year, sum,to_date, col\n",
    "from pyspark.sql.types import DecimalType\n",
    "decimal_type = DecimalType(10,2)\n",
    "dataframes['Order']=dataframes['Order'].withColumn('order_date',to_date(col(\"order_date\"),\"MM/dd/yyyy\"))\n",
    "dataframes[\"Order\"]=dataframes[\"Order\"].withColumn('year',year(col(\"order_date\")).alias(\"year\")).withColumn('month',month(col(\"order_date\")).alias(\"month\"))\n",
    "total_sales_df = dataframes['Order'].groupBy(\"year\",\"month\").agg(sum(\"total_price\").cast(decimal_type).alias(\"total_sales\"))\n",
    "total_sales_df.show()\n",
    "gold_writes['total_sales_df']='/mnt/gold/public/total_sales/'\n"
   ]
  },
  {
   "cell_type": "code",
   "execution_count": 0,
   "metadata": {
    "application/vnd.databricks.v1+cell": {
     "cellMetadata": {
      "byteLimit": 2048000,
      "rowLimit": 10000
     },
     "inputWidgets": {},
     "nuid": "16feaad1-491c-4146-9ce2-9078300e17f3",
     "showTitle": false,
     "title": ""
    }
   },
   "outputs": [
    {
     "output_type": "stream",
     "name": "stdout",
     "output_type": "stream",
     "text": [
      "+----------+--------------------+-----------+\n|   company|               model|sales_count|\n+----------+--------------------+-----------+\n|    Jaguar|                  XK|       1485|\n|    Jaguar|                  XE|       1393|\n|    Jaguar|                  XJ|       1291|\n|Land Rover|         Range Rover|       1270|\n|Land Rover|Range Rover Velar...|       1260|\n|    Jaguar|              E-PACE|       1250|\n|    Jaguar|              F-PACE|       1186|\n|    Jaguar|              I-PACE|       1181|\n|Land Rover|           Discovery|       1179|\n|Land Rover|Range Rover Sport...|       1132|\n|    Jaguar|              F-Type|       1108|\n|    Jaguar|                  XF|       1082|\n|Land Rover|   Range Rover Sport|       1080|\n|Land Rover|   Range Rover Velar|       1062|\n|Land Rover|            Defender|       1041|\n|Land Rover|  Range Rover Evoque|       1011|\n|Land Rover|     Discovery Sport|        989|\n+----------+--------------------+-----------+\n\n"
     ]
    }
   ],
   "source": [
    "#Top-Selling Car Models\n",
    "from pyspark.sql.functions import count,col\n",
    "order_df = dataframes['Order']\n",
    "car_df = dataframes['Car']\n",
    "top_selling_cars_df = order_df.alias(\"o\") \\\n",
    "    .join(car_df.alias(\"c\"), col(\"o.car_id\") == col(\"c.Id\")) \\\n",
    "    .groupBy(\"c.company\", \"c.model\") \\\n",
    "    .agg(count(\"o.Id\").alias(\"sales_count\")) \\\n",
    "    .orderBy(col(\"sales_count\").desc())\n",
    "top_selling_cars_df.show()\n",
    "gold_writes['top_selling_cars_df']='/mnt/gold/public/top_selling_cars/'"
   ]
  },
  {
   "cell_type": "code",
   "execution_count": 0,
   "metadata": {
    "application/vnd.databricks.v1+cell": {
     "cellMetadata": {
      "byteLimit": 2048000,
      "rowLimit": 10000
     },
     "inputWidgets": {},
     "nuid": "3c5a1635-00cc-47b1-9940-263b498845fd",
     "showTitle": false,
     "title": ""
    }
   },
   "outputs": [
    {
     "output_type": "stream",
     "name": "stdout",
     "output_type": "stream",
     "text": [
      "+----------+----------+-----------+\n|first_name| last_name|total_sales|\n+----------+----------+-----------+\n|  Benjamin|      Webb|   13337.86|\n|   Michael|   Montoya|    7829.28|\n|      Jose|Livingston|   11140.07|\n|     Jesus|    Flores|   11512.42|\n|     Aaron|  Saunders|    7214.58|\n|      Dale|    Morgan|   13665.71|\n|   Kristen|   Elliott|    9487.01|\n|   William|  Mitchell|    7978.05|\n|    Joshua|  Anderson|    8173.30|\n|       Amy|    Barker|    5828.12|\n|      Mark|      Khan|    7015.97|\n|     Traci|  Cardenas|    8312.62|\n|     Jorge|      Ware|    6541.79|\n|     Brent|  Robinson|    7569.25|\n|    Ashley|    Rogers|    8631.51|\n|     Robyn|   Collins|    3140.50|\n|     Craig|     Brown|    3730.55|\n|   Sabrina|    Miller|    5878.63|\n|      Tina|     Olsen|    9929.37|\n|   Richard|   Summers|   12081.38|\n+----------+----------+-----------+\nonly showing top 20 rows\n\n"
     ]
    }
   ],
   "source": [
    "#sales by employee\n",
    "from pyspark.sql.functions import sum\n",
    "from pyspark.sql.types import DecimalType\n",
    "decimal_type = DecimalType(10,2)\n",
    "sales_transaction_df = dataframes['SalesTransaction']\n",
    "employee_df = dataframes['Employee']\n",
    "sales_by_employee_df = sales_transaction_df.join(employee_df, sales_transaction_df.employee_id == employee_df.Id).groupBy(\"first_name\", \"last_name\").agg(sum(\"amount_paid\").cast(decimal_type).alias(\"total_sales\"))\n",
    "sales_by_employee_df.show()\n",
    "gold_writes['sales_by_employee_df']='/mnt/gold/public/sales_by_employee/'"
   ]
  },
  {
   "cell_type": "code",
   "execution_count": 0,
   "metadata": {
    "application/vnd.databricks.v1+cell": {
     "cellMetadata": {
      "byteLimit": 2048000,
      "rowLimit": 10000
     },
     "inputWidgets": {},
     "nuid": "2bd38617-db3f-41ad-93da-01a5e0950db8",
     "showTitle": false,
     "title": ""
    }
   },
   "outputs": [
    {
     "output_type": "stream",
     "name": "stdout",
     "output_type": "stream",
     "text": [
      "+----------+---------+--------------+\n|first_name|last_name|lifetime_value|\n+----------+---------+--------------+\n|   Phillip|      Lee|      63371.23|\n|     Emily|    Price|     138286.06|\n|    Joseph|    Cowan|     104222.15|\n|     Tonya| Thompson|      58196.79|\n|      Mary|    Bowen|      39461.49|\n|  Kimberly|   Martin|      18470.43|\n|    George|  Johnson|      37880.29|\n| Elizabeth|   Bailey|      46974.44|\n|     Randy|    Adams|      14496.74|\n|      Kara|     Ward|      44762.00|\n|    Olivia|   Malone|      44160.54|\n|    Pamela|  Higgins|      61334.14|\n|     James|    Smith|     194073.40|\n|  Mitchell|    Wells|      55837.03|\n|   Natalie|   Austin|      50864.28|\n|     Diana|   Sutton|      27721.82|\n|    Nicole|    Stein|      10836.56|\n|     Tanya|  Collins|      38905.21|\n|   Michael|  Montoya|      46200.35|\n|     Brett|    Brown|      30904.85|\n+----------+---------+--------------+\nonly showing top 20 rows\n\n"
     ]
    }
   ],
   "source": [
    "# Customer Lifetime Value\n",
    "from pyspark.sql.types import DecimalType\n",
    "decimal_type = DecimalType(10,2)\n",
    "order_df=dataframes['Order']\n",
    "customer_df=dataframes['Customer']\n",
    "customer_lifetime_value_df = order_df.join(customer_df, order_df.customer_id == customer_df.Id).groupBy(\"first_name\", \"last_name\").agg(sum(\"total_price\").cast(decimal_type).alias(\"lifetime_value\"))\n",
    "customer_lifetime_value_df.show()\n",
    "gold_writes['customer_lifetime_value_df']='/mnt/gold/public/customer_lifetime_value/'"
   ]
  },
  {
   "cell_type": "code",
   "execution_count": 0,
   "metadata": {
    "application/vnd.databricks.v1+cell": {
     "cellMetadata": {
      "byteLimit": 2048000,
      "rowLimit": 10000
     },
     "inputWidgets": {},
     "nuid": "77e46897-ed60-4a21-ae3e-f2a7ca2d1f0d",
     "showTitle": false,
     "title": ""
    }
   },
   "outputs": [
    {
     "output_type": "stream",
     "name": "stdout",
     "output_type": "stream",
     "text": [
      "+----------+--------------------+-------------+\n|   company|               model|service_count|\n+----------+--------------------+-------------+\n|    Jaguar|                  XK|          872|\n|    Jaguar|                  XE|          818|\n|Land Rover|           Discovery|          790|\n|    Jaguar|              I-PACE|          783|\n|Land Rover|         Range Rover|          778|\n|    Jaguar|                  XJ|          770|\n|    Jaguar|                  XF|          738|\n|    Jaguar|              F-PACE|          735|\n|Land Rover|Range Rover Velar...|          733|\n|    Jaguar|              E-PACE|          730|\n|    Jaguar|              F-Type|          721|\n|Land Rover|   Range Rover Velar|          709|\n|Land Rover|Range Rover Sport...|          664|\n|Land Rover|   Range Rover Sport|          652|\n|Land Rover|            Defender|          649|\n|Land Rover|     Discovery Sport|          600|\n|Land Rover|  Range Rover Evoque|          593|\n+----------+--------------------+-------------+\n\n"
     ]
    }
   ],
   "source": [
    "# Most Serviced Cars\n",
    "service_record_df=dataframes['ServiceRecord']\n",
    "car_df=dataframes['Car']\n",
    "\n",
    "most_serviced_cars_df = service_record_df \\\n",
    ".join(car_df, service_record_df.car_id == car_df.Id) \\\n",
    ".groupBy(\"company\", \"model\") \\\n",
    ".agg(count(\"service_date\").alias(\"service_count\")) \\\n",
    ".orderBy(col(\"service_count\").desc())\n",
    "most_serviced_cars_df.show()\n",
    "gold_writes['most_serviced_cars_df']='/mnt/gold/public/most_serviced_cars/'\n"
   ]
  },
  {
   "cell_type": "code",
   "execution_count": 0,
   "metadata": {
    "application/vnd.databricks.v1+cell": {
     "cellMetadata": {
      "byteLimit": 2048000,
      "rowLimit": 10000
     },
     "inputWidgets": {},
     "nuid": "9ef021e8-2120-49e6-9f07-e08c6b0829a9",
     "showTitle": false,
     "title": ""
    }
   },
   "outputs": [
    {
     "output_type": "stream",
     "name": "stdout",
     "output_type": "stream",
     "text": [
      "+----------+---------+----------------+-----------------+----------------------+------------------------------+\n|   company|    model|maintenance_year|maintenance_count|total_maintenance_cost|avg_maintenance_cost_per_event|\n+----------+---------+----------------+-----------------+----------------------+------------------------------+\n|    Jaguar|   E-PACE|            2023|              229|     68107.29999999999|            297.41179039301306|\n|    Jaguar|   E-PACE|            2024|              354|     97898.61000000006|              276.549745762712|\n|    Jaguar|   F-PACE|            2023|              248|     71613.97999999998|             288.7660483870967|\n|    Jaguar|   F-PACE|            2024|              396|    110172.13999999996|            278.21247474747463|\n|    Jaguar|   F-Type|            2023|              204|              54891.01|            269.07357843137254|\n|    Jaguar|   F-Type|            2024|              331|     94002.15000000013|             283.9944108761333|\n|    Jaguar|   I-PACE|            2023|              240|     63688.13999999997|             265.3672499999999|\n|    Jaguar|   I-PACE|            2024|              372|    100060.90999999992|            268.98094086021484|\n|    Jaguar|       XE|            2023|              299|     84576.88999999994|            282.86585284280915|\n|    Jaguar|       XE|            2024|              396|    107108.85999999993|              270.476919191919|\n|    Jaguar|       XF|            2023|              230|     62426.90999999998|             271.4213478260869|\n|    Jaguar|       XF|            2024|              344|               92402.9|            268.61308139534884|\n|    Jaguar|       XJ|            2023|              237|    63748.880000000034|             268.9826160337554|\n|    Jaguar|       XJ|            2024|              379|    109425.17999999992|            288.72079155672805|\n|    Jaguar|       XK|            2023|              278|     74442.57000000005|             267.7790287769786|\n|    Jaguar|       XK|            2024|              430|    120225.59000000004|             279.5943953488373|\n|Land Rover| Defender|            2023|              186|     51036.84999999999|             274.3916666666666|\n|Land Rover| Defender|            2024|              292|     82917.20000000001|            283.96301369863016|\n|Land Rover|Discovery|            2023|              214|     63638.16000000004|             297.3745794392525|\n|Land Rover|Discovery|            2024|              354|     96212.21000000002|            271.78590395480234|\n+----------+---------+----------------+-----------------+----------------------+------------------------------+\nonly showing top 20 rows\n\n"
     ]
    }
   ],
   "source": [
    "#Average Maintenance Cost and Frequency by Car Model and Year\n",
    "from pyspark.sql.functions import col, year, sum, count, avg\n",
    "from pyspark.sql.types import DecimalType\n",
    "decimal_type = DecimalType(10,2)\n",
    "maintenance_record_df = dataframes['MaintenanceRecord'].withColumn('maintenance_date',to_date(col(\"maintenance_date\"),\"MM/dd/yyyy\"))\n",
    "\n",
    "maintenance_record_df = maintenance_record_df.withColumn('maintenance_year',year(col(\"maintenance_date\")))\n",
    "car_df = dataframes['Car']\n",
    "\n",
    "maintenance_cost_frequency_df = maintenance_record_df.alias(\"m\") \\\n",
    "    .join(car_df.alias(\"c\"), col(\"m.car_id\") == col(\"c.Id\")) \\\n",
    "    .groupBy(\"c.company\", \"c.model\", \"maintenance_year\") \\\n",
    "    .agg(\n",
    "        count(\"m.Id\").alias(\"maintenance_count\"),\n",
    "        sum(\"m.cost\").alias(\"total_maintenance_cost\"),\n",
    "        avg(\"m.cost\").alias(\"avg_maintenance_cost_per_event\")\n",
    "    ) \\\n",
    "    .orderBy(\"c.company\", \"c.model\", \"maintenance_year\")\n",
    "maintenance_cost_frequency_df.show()\n",
    "gold_writes['maintenance_cost_frequency_df']='/mnt/gold/public/maintenance_cost_frequency/'"
   ]
  },
  {
   "cell_type": "code",
   "execution_count": 0,
   "metadata": {
    "application/vnd.databricks.v1+cell": {
     "cellMetadata": {
      "byteLimit": 2048000,
      "rowLimit": 10000
     },
     "inputWidgets": {},
     "nuid": "d96a1f99-9351-4129-9961-961de9346283",
     "showTitle": false,
     "title": ""
    }
   },
   "outputs": [],
   "source": [
    "#writing to gold layer\n",
    "for df_name,path in gold_writes.items():\n",
    "    df=globals()[df_name]\n",
    "    df.write.mode(\"overwrite\").format(\"delta\").save(path)"
   ]
  }
 ],
 "metadata": {
  "application/vnd.databricks.v1+notebook": {
   "dashboards": [],
   "environmentMetadata": null,
   "language": "python",
   "notebookMetadata": {
    "pythonIndentUnit": 4
   },
   "notebookName": "silver_to_gold",
   "widgets": {}
  }
 },
 "nbformat": 4,
 "nbformat_minor": 0
}
